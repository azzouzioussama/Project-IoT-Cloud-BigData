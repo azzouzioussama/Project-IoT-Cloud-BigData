{
 "cells": [
  {
   "cell_type": "code",
   "execution_count": 1,
   "metadata": {},
   "outputs": [],
   "source": [
    "from cassandra.cluster import Cluster\n",
    "from cassandra.auth import PlainTextAuthProvider\n",
    "\n",
    "# Authentication setup (if needed)\n",
    "auth_provider = PlainTextAuthProvider(username='your_username', password='your_password')\n",
    "\n",
    "# Connecting to the cluster\n",
    "cluster = Cluster(contact_points=['127.0.0.1'], port=9042)\n",
    "session = cluster.connect()\n"
   ]
  },
  {
   "cell_type": "code",
   "execution_count": 4,
   "metadata": {},
   "outputs": [
    {
     "data": {
      "text/plain": [
       "<cassandra.cluster.ResultSet at 0x77cdbdf24730>"
      ]
     },
     "execution_count": 4,
     "metadata": {},
     "output_type": "execute_result"
    }
   ],
   "source": [
    "session.execute(\"\"\"\n",
    "    CREATE KEYSPACE IF NOT EXISTS your_keyspace\n",
    "    WITH replication = {'class': 'SimpleStrategy', 'replication_factor': '1'}\n",
    "\"\"\")\n",
    "\n",
    "session.execute(\"\"\"\n",
    " CREATE TABLE IF NOT EXISTS your_keyspace.your_table (\n",
    "    id int PRIMARY KEY,\n",
    "    Gender text,\n",
    "    Customer_Type text,\n",
    "    Age int,\n",
    "    Type_of_Travel text,\n",
    "    Class text,\n",
    "    Flight_Distance int,\n",
    "    Inflight_wifi_service int,\n",
    "    Departure_Arrival_time_convenient int,\n",
    "    Ease_of_Online_booking int,\n",
    "    Gate_location int,\n",
    "    Food_and_drink int,\n",
    "    Online_boarding int,\n",
    "    Seat_comfort int,\n",
    "    Inflight_entertainment int,\n",
    "    On_board_service int,\n",
    "    Leg_room_service int,\n",
    "    Baggage_handling int,\n",
    "    Checkin_service int,\n",
    "    Inflight_service int,\n",
    "    Cleanliness int,\n",
    "    Departure_Delay_in_Minutes int,\n",
    "    Arrival_Delay_in_Minutes float,  -- Assuming possible decimals\n",
    "    satisfaction text\n",
    "    -- Add more columns as per your CSV structure\n",
    ");\n",
    "\n",
    "\"\"\")\n"
   ]
  },
  {
   "cell_type": "code",
   "execution_count": 7,
   "metadata": {},
   "outputs": [],
   "source": [
    "insert_query = \"\"\"\n",
    "    INSERT INTO your_keyspace.your_table (id, Gender, Customer_Type, Age, Type_of_Travel, Class, Flight_Distance, Inflight_wifi_service, Departure_Arrival_time_convenient, Ease_of_Online_booking, Gate_location, Food_and_drink, Online_boarding, Seat_comfort, Inflight_entertainment, On_board_service, Leg_room_service, Baggage_handling, Checkin_service, Inflight_service, Cleanliness, Departure_Delay_in_Minutes, Arrival_Delay_in_Minutes, satisfaction)\n",
    "    VALUES (?, ?, ?, ?, ?, ?, ?, ?, ?, ?, ?, ?, ?, ?, ?, ?, ?, ?, ?, ?, ?, ?, ?, ?)\n",
    "\"\"\"\n"
   ]
  },
  {
   "cell_type": "code",
   "execution_count": 29,
   "metadata": {},
   "outputs": [
    {
     "name": "stdout",
     "output_type": "stream",
     "text": [
      "Index(['Unnamed: 0', 'id', 'Gender', 'Customer Type', 'Age', 'Type of Travel',\n",
      "       'Class', 'Flight Distance', 'Inflight wifi service',\n",
      "       'Departure/Arrival time convenient', 'Ease of Online booking',\n",
      "       'Gate location', 'Food and drink', 'Online boarding', 'Seat comfort',\n",
      "       'Inflight entertainment', 'On-board service', 'Leg room service',\n",
      "       'Baggage handling', 'Checkin service', 'Inflight service',\n",
      "       'Cleanliness', 'Departure Delay in Minutes', 'Arrival Delay in Minutes',\n",
      "       'satisfaction'],\n",
      "      dtype='object')\n"
     ]
    },
    {
     "data": {
      "text/html": [
       "<div>\n",
       "<style scoped>\n",
       "    .dataframe tbody tr th:only-of-type {\n",
       "        vertical-align: middle;\n",
       "    }\n",
       "\n",
       "    .dataframe tbody tr th {\n",
       "        vertical-align: top;\n",
       "    }\n",
       "\n",
       "    .dataframe thead th {\n",
       "        text-align: right;\n",
       "    }\n",
       "</style>\n",
       "<table border=\"1\" class=\"dataframe\">\n",
       "  <thead>\n",
       "    <tr style=\"text-align: right;\">\n",
       "      <th></th>\n",
       "      <th>Unnamed: 0</th>\n",
       "      <th>id</th>\n",
       "      <th>Gender</th>\n",
       "      <th>Customer Type</th>\n",
       "      <th>Age</th>\n",
       "      <th>Type of Travel</th>\n",
       "      <th>Class</th>\n",
       "      <th>Flight Distance</th>\n",
       "      <th>Inflight wifi service</th>\n",
       "      <th>Departure/Arrival time convenient</th>\n",
       "      <th>...</th>\n",
       "      <th>Inflight entertainment</th>\n",
       "      <th>On-board service</th>\n",
       "      <th>Leg room service</th>\n",
       "      <th>Baggage handling</th>\n",
       "      <th>Checkin service</th>\n",
       "      <th>Inflight service</th>\n",
       "      <th>Cleanliness</th>\n",
       "      <th>Departure Delay in Minutes</th>\n",
       "      <th>Arrival Delay in Minutes</th>\n",
       "      <th>satisfaction</th>\n",
       "    </tr>\n",
       "  </thead>\n",
       "  <tbody>\n",
       "    <tr>\n",
       "      <th>0</th>\n",
       "      <td>0</td>\n",
       "      <td>19556</td>\n",
       "      <td>Female</td>\n",
       "      <td>Loyal Customer</td>\n",
       "      <td>52</td>\n",
       "      <td>Business travel</td>\n",
       "      <td>Eco</td>\n",
       "      <td>160</td>\n",
       "      <td>5</td>\n",
       "      <td>4</td>\n",
       "      <td>...</td>\n",
       "      <td>5</td>\n",
       "      <td>5</td>\n",
       "      <td>5</td>\n",
       "      <td>5</td>\n",
       "      <td>2</td>\n",
       "      <td>5</td>\n",
       "      <td>5</td>\n",
       "      <td>50</td>\n",
       "      <td>44.0</td>\n",
       "      <td>satisfied</td>\n",
       "    </tr>\n",
       "    <tr>\n",
       "      <th>1</th>\n",
       "      <td>1</td>\n",
       "      <td>90035</td>\n",
       "      <td>Female</td>\n",
       "      <td>Loyal Customer</td>\n",
       "      <td>36</td>\n",
       "      <td>Business travel</td>\n",
       "      <td>Business</td>\n",
       "      <td>2863</td>\n",
       "      <td>1</td>\n",
       "      <td>1</td>\n",
       "      <td>...</td>\n",
       "      <td>4</td>\n",
       "      <td>4</td>\n",
       "      <td>4</td>\n",
       "      <td>4</td>\n",
       "      <td>3</td>\n",
       "      <td>4</td>\n",
       "      <td>5</td>\n",
       "      <td>0</td>\n",
       "      <td>0.0</td>\n",
       "      <td>satisfied</td>\n",
       "    </tr>\n",
       "    <tr>\n",
       "      <th>2</th>\n",
       "      <td>2</td>\n",
       "      <td>12360</td>\n",
       "      <td>Male</td>\n",
       "      <td>disloyal Customer</td>\n",
       "      <td>20</td>\n",
       "      <td>Business travel</td>\n",
       "      <td>Eco</td>\n",
       "      <td>192</td>\n",
       "      <td>2</td>\n",
       "      <td>0</td>\n",
       "      <td>...</td>\n",
       "      <td>2</td>\n",
       "      <td>4</td>\n",
       "      <td>1</td>\n",
       "      <td>3</td>\n",
       "      <td>2</td>\n",
       "      <td>2</td>\n",
       "      <td>2</td>\n",
       "      <td>0</td>\n",
       "      <td>0.0</td>\n",
       "      <td>neutral or dissatisfied</td>\n",
       "    </tr>\n",
       "    <tr>\n",
       "      <th>3</th>\n",
       "      <td>3</td>\n",
       "      <td>77959</td>\n",
       "      <td>Male</td>\n",
       "      <td>Loyal Customer</td>\n",
       "      <td>44</td>\n",
       "      <td>Business travel</td>\n",
       "      <td>Business</td>\n",
       "      <td>3377</td>\n",
       "      <td>0</td>\n",
       "      <td>0</td>\n",
       "      <td>...</td>\n",
       "      <td>1</td>\n",
       "      <td>1</td>\n",
       "      <td>1</td>\n",
       "      <td>1</td>\n",
       "      <td>3</td>\n",
       "      <td>1</td>\n",
       "      <td>4</td>\n",
       "      <td>0</td>\n",
       "      <td>6.0</td>\n",
       "      <td>satisfied</td>\n",
       "    </tr>\n",
       "    <tr>\n",
       "      <th>4</th>\n",
       "      <td>4</td>\n",
       "      <td>36875</td>\n",
       "      <td>Female</td>\n",
       "      <td>Loyal Customer</td>\n",
       "      <td>49</td>\n",
       "      <td>Business travel</td>\n",
       "      <td>Eco</td>\n",
       "      <td>1182</td>\n",
       "      <td>2</td>\n",
       "      <td>3</td>\n",
       "      <td>...</td>\n",
       "      <td>2</td>\n",
       "      <td>2</td>\n",
       "      <td>2</td>\n",
       "      <td>2</td>\n",
       "      <td>4</td>\n",
       "      <td>2</td>\n",
       "      <td>4</td>\n",
       "      <td>0</td>\n",
       "      <td>20.0</td>\n",
       "      <td>satisfied</td>\n",
       "    </tr>\n",
       "  </tbody>\n",
       "</table>\n",
       "<p>5 rows × 25 columns</p>\n",
       "</div>"
      ],
      "text/plain": [
       "   Unnamed: 0     id  Gender      Customer Type  Age   Type of Travel  \\\n",
       "0           0  19556  Female     Loyal Customer   52  Business travel   \n",
       "1           1  90035  Female     Loyal Customer   36  Business travel   \n",
       "2           2  12360    Male  disloyal Customer   20  Business travel   \n",
       "3           3  77959    Male     Loyal Customer   44  Business travel   \n",
       "4           4  36875  Female     Loyal Customer   49  Business travel   \n",
       "\n",
       "      Class  Flight Distance  Inflight wifi service  \\\n",
       "0       Eco              160                      5   \n",
       "1  Business             2863                      1   \n",
       "2       Eco              192                      2   \n",
       "3  Business             3377                      0   \n",
       "4       Eco             1182                      2   \n",
       "\n",
       "   Departure/Arrival time convenient  ...  Inflight entertainment  \\\n",
       "0                                  4  ...                       5   \n",
       "1                                  1  ...                       4   \n",
       "2                                  0  ...                       2   \n",
       "3                                  0  ...                       1   \n",
       "4                                  3  ...                       2   \n",
       "\n",
       "   On-board service  Leg room service  Baggage handling  Checkin service  \\\n",
       "0                 5                 5                 5                2   \n",
       "1                 4                 4                 4                3   \n",
       "2                 4                 1                 3                2   \n",
       "3                 1                 1                 1                3   \n",
       "4                 2                 2                 2                4   \n",
       "\n",
       "   Inflight service  Cleanliness  Departure Delay in Minutes  \\\n",
       "0                 5            5                          50   \n",
       "1                 4            5                           0   \n",
       "2                 2            2                           0   \n",
       "3                 1            4                           0   \n",
       "4                 2            4                           0   \n",
       "\n",
       "   Arrival Delay in Minutes             satisfaction  \n",
       "0                      44.0                satisfied  \n",
       "1                       0.0                satisfied  \n",
       "2                       0.0  neutral or dissatisfied  \n",
       "3                       6.0                satisfied  \n",
       "4                      20.0                satisfied  \n",
       "\n",
       "[5 rows x 25 columns]"
      ]
     },
     "execution_count": 29,
     "metadata": {},
     "output_type": "execute_result"
    }
   ],
   "source": [
    "import pandas as pd\n",
    "from cassandra.cluster import Cluster\n",
    "from cassandra.query import BatchStatement\n",
    "\n",
    "# Assuming you've already connected to Cassandra\n",
    "# cluster and session are your Cluster and Session instances\n",
    "\n",
    "# Read the CSV file\n",
    "csv_path = 'data/test.csv'\n",
    "df = pd.read_csv(csv_path)\n",
    "\n",
    "print(df.columns)\n",
    "df.head()"
   ]
  },
  {
   "cell_type": "code",
   "execution_count": 11,
   "metadata": {},
   "outputs": [],
   "source": [
    "\n",
    "\n",
    "prepared_statement = session.prepare(insert_query)\n",
    "\n",
    "# Adjust the column names to match those in your DataFrame, excluding any index or unwanted columns\n",
    "columns_to_insert = [\n",
    "    'id', 'Gender', 'Customer Type', 'Age', 'Type of Travel', 'Class', 'Flight Distance',\n",
    "    'Inflight wifi service', 'Departure/Arrival time convenient', 'Ease of Online booking',\n",
    "    'Gate location', 'Food and drink', 'Online boarding', 'Seat comfort',\n",
    "    'Inflight entertainment', 'On-board service', 'Leg room service', 'Baggage handling',\n",
    "    'Checkin service', 'Inflight service', 'Cleanliness', 'Departure Delay in Minutes',\n",
    "    'Arrival Delay in Minutes', 'satisfaction'\n",
    "]\n",
    "\n",
    "\n",
    "for _, row in df.iterrows():\n",
    "    # Create a data tuple that only includes the columns you're intending to insert\n",
    "    data_tuple = tuple(row[col] for col in columns_to_insert)\n",
    "    # Convert NaN to None to handle missing values appropriately\n",
    "    data_tuple = tuple(None if pd.isna(value) else value for value in data_tuple)\n",
    "    # Execute the insert statement for each row\n",
    "    session.execute(prepared_statement, data_tuple)\n"
   ]
  },
  {
   "cell_type": "code",
   "execution_count": 12,
   "metadata": {},
   "outputs": [
    {
     "name": "stdout",
     "output_type": "stream",
     "text": [
      "Row(id=121478, age=31, arrival_delay_in_minutes=0.0, baggage_handling=1, checkin_service=5, field_5_='Eco', cleanliness=5, customer_type='Loyal Customer', departure_arrival_time_convenient=3, departure_delay_in_minutes=0, ease_of_online_booking=3, flight_distance=331, food_and_drink=5, gate_location=2, gender='Male', inflight_entertainment=5, inflight_service=5, inflight_wifi_service=3, leg_room_service=1, on_board_service=5, online_boarding=3, satisfaction='neutral or dissatisfied', seat_comfort=5, type_of_travel='Personal Travel')\n",
      "Row(id=122937, age=26, arrival_delay_in_minutes=25.0, baggage_handling=4, checkin_service=4, field_5_='Business', cleanliness=4, customer_type='Loyal Customer', departure_arrival_time_convenient=5, departure_delay_in_minutes=20, ease_of_online_booking=4, flight_distance=3691, food_and_drink=4, gate_location=4, gender='Female', inflight_entertainment=4, inflight_service=4, inflight_wifi_service=4, leg_room_service=2, on_board_service=5, online_boarding=4, satisfaction='satisfied', seat_comfort=4, type_of_travel='Business travel')\n",
      "Row(id=25269, age=16, arrival_delay_in_minutes=0.0, baggage_handling=4, checkin_service=1, field_5_='Business', cleanliness=3, customer_type='Loyal Customer', departure_arrival_time_convenient=5, departure_delay_in_minutes=0, ease_of_online_booking=5, flight_distance=3149, food_and_drink=3, gate_location=5, gender='Male', inflight_entertainment=3, inflight_service=3, inflight_wifi_service=3, leg_room_service=5, on_board_service=1, online_boarding=3, satisfaction='neutral or dissatisfied', seat_comfort=3, type_of_travel='Business travel')\n",
      "Row(id=116643, age=22, arrival_delay_in_minutes=0.0, baggage_handling=5, checkin_service=3, field_5_='Business', cleanliness=5, customer_type='disloyal Customer', departure_arrival_time_convenient=0, departure_delay_in_minutes=0, ease_of_online_booking=5, flight_distance=373, food_and_drink=5, gate_location=3, gender='Female', inflight_entertainment=5, inflight_service=5, inflight_wifi_service=5, leg_room_service=5, on_board_service=3, online_boarding=5, satisfaction='satisfied', seat_comfort=5, type_of_travel='Business travel')\n",
      "Row(id=48451, age=24, arrival_delay_in_minutes=0.0, baggage_handling=1, checkin_service=3, field_5_='Eco', cleanliness=1, customer_type='disloyal Customer', departure_arrival_time_convenient=4, departure_delay_in_minutes=0, ease_of_online_booking=4, flight_distance=763, food_and_drink=1, gate_location=3, gender='Male', inflight_entertainment=1, inflight_service=3, inflight_wifi_service=4, leg_room_service=4, on_board_service=1, online_boarding=4, satisfaction='satisfied', seat_comfort=1, type_of_travel='Business travel')\n"
     ]
    }
   ],
   "source": [
    "# Prepare the SELECT statement\n",
    "select_query = \"SELECT * FROM your_keyspace.your_table LIMIT 5;\"\n",
    "\n",
    "# Execute the query\n",
    "rows = session.execute(select_query)\n",
    "\n",
    "# Iterate over the result set and print each row\n",
    "for row in rows:\n",
    "    print(row)\n"
   ]
  },
  {
   "cell_type": "code",
   "execution_count": 24,
   "metadata": {},
   "outputs": [],
   "source": [
    "from pymongo import MongoClient\n",
    "\n",
    "# Connect to MongoDB\n",
    "mongo_client = MongoClient('mongodb://localhost:27017/')\n",
    "mongo_db = mongo_client['your_database']\n",
    "mongo_collection = mongo_db['your_collection']\n"
   ]
  },
  {
   "cell_type": "code",
   "execution_count": 25,
   "metadata": {},
   "outputs": [],
   "source": [
    "select_query = \"SELECT * FROM your_keyspace.your_table;\"\n",
    "rows = session.execute(select_query)\n"
   ]
  },
  {
   "cell_type": "code",
   "execution_count": 26,
   "metadata": {},
   "outputs": [],
   "source": [
    "batch_size = 1000  # Define a suitable batch size\n",
    "batch = []  # Initialize a batch\n",
    "\n",
    "for row in rows:\n",
    "    # Convert the Cassandra row to a dict and add to the batch\n",
    "    batch.append({column: value for column, value in row._asdict().items()})\n",
    "    \n",
    "    # When the batch reaches the specified size, insert it and start a new batch\n",
    "    if len(batch) >= batch_size:\n",
    "        mongo_collection.insert_many(batch)\n",
    "        batch = []  # Reset the batch\n",
    "\n",
    "# Insert any remaining documents in the last batch\n",
    "if batch:\n",
    "    mongo_collection.insert_many(batch)\n"
   ]
  },
  {
   "cell_type": "code",
   "execution_count": null,
   "metadata": {},
   "outputs": [],
   "source": [
    "\n"
   ]
  },
  {
   "cell_type": "code",
   "execution_count": 27,
   "metadata": {},
   "outputs": [
    {
     "name": "stdout",
     "output_type": "stream",
     "text": [
      "{'_id': ObjectId('65f6197938b3d9a9d355b69a'), 'id': 121478, 'age': 31, 'arrival_delay_in_minutes': 0.0, 'baggage_handling': 1, 'checkin_service': 5, 'field_5_': 'Eco', 'cleanliness': 5, 'customer_type': 'Loyal Customer', 'departure_arrival_time_convenient': 3, 'departure_delay_in_minutes': 0, 'ease_of_online_booking': 3, 'flight_distance': 331, 'food_and_drink': 5, 'gate_location': 2, 'gender': 'Male', 'inflight_entertainment': 5, 'inflight_service': 5, 'inflight_wifi_service': 3, 'leg_room_service': 1, 'on_board_service': 5, 'online_boarding': 3, 'satisfaction': 'neutral or dissatisfied', 'seat_comfort': 5, 'type_of_travel': 'Personal Travel'}\n",
      "{'_id': ObjectId('65f6197938b3d9a9d355b69b'), 'id': 122937, 'age': 26, 'arrival_delay_in_minutes': 25.0, 'baggage_handling': 4, 'checkin_service': 4, 'field_5_': 'Business', 'cleanliness': 4, 'customer_type': 'Loyal Customer', 'departure_arrival_time_convenient': 5, 'departure_delay_in_minutes': 20, 'ease_of_online_booking': 4, 'flight_distance': 3691, 'food_and_drink': 4, 'gate_location': 4, 'gender': 'Female', 'inflight_entertainment': 4, 'inflight_service': 4, 'inflight_wifi_service': 4, 'leg_room_service': 2, 'on_board_service': 5, 'online_boarding': 4, 'satisfaction': 'satisfied', 'seat_comfort': 4, 'type_of_travel': 'Business travel'}\n",
      "{'_id': ObjectId('65f6197938b3d9a9d355b69c'), 'id': 25269, 'age': 16, 'arrival_delay_in_minutes': 0.0, 'baggage_handling': 4, 'checkin_service': 1, 'field_5_': 'Business', 'cleanliness': 3, 'customer_type': 'Loyal Customer', 'departure_arrival_time_convenient': 5, 'departure_delay_in_minutes': 0, 'ease_of_online_booking': 5, 'flight_distance': 3149, 'food_and_drink': 3, 'gate_location': 5, 'gender': 'Male', 'inflight_entertainment': 3, 'inflight_service': 3, 'inflight_wifi_service': 3, 'leg_room_service': 5, 'on_board_service': 1, 'online_boarding': 3, 'satisfaction': 'neutral or dissatisfied', 'seat_comfort': 3, 'type_of_travel': 'Business travel'}\n",
      "{'_id': ObjectId('65f6197938b3d9a9d355b69d'), 'id': 116643, 'age': 22, 'arrival_delay_in_minutes': 0.0, 'baggage_handling': 5, 'checkin_service': 3, 'field_5_': 'Business', 'cleanliness': 5, 'customer_type': 'disloyal Customer', 'departure_arrival_time_convenient': 0, 'departure_delay_in_minutes': 0, 'ease_of_online_booking': 5, 'flight_distance': 373, 'food_and_drink': 5, 'gate_location': 3, 'gender': 'Female', 'inflight_entertainment': 5, 'inflight_service': 5, 'inflight_wifi_service': 5, 'leg_room_service': 5, 'on_board_service': 3, 'online_boarding': 5, 'satisfaction': 'satisfied', 'seat_comfort': 5, 'type_of_travel': 'Business travel'}\n",
      "{'_id': ObjectId('65f6197938b3d9a9d355b69e'), 'id': 48451, 'age': 24, 'arrival_delay_in_minutes': 0.0, 'baggage_handling': 1, 'checkin_service': 3, 'field_5_': 'Eco', 'cleanliness': 1, 'customer_type': 'disloyal Customer', 'departure_arrival_time_convenient': 4, 'departure_delay_in_minutes': 0, 'ease_of_online_booking': 4, 'flight_distance': 763, 'food_and_drink': 1, 'gate_location': 3, 'gender': 'Male', 'inflight_entertainment': 1, 'inflight_service': 3, 'inflight_wifi_service': 4, 'leg_room_service': 4, 'on_board_service': 1, 'online_boarding': 4, 'satisfaction': 'satisfied', 'seat_comfort': 1, 'type_of_travel': 'Business travel'}\n"
     ]
    }
   ],
   "source": [
    "# Assuming mongo_collection is your MongoDB collection\n",
    "documents = mongo_collection.find().limit(5)\n",
    "\n",
    "for document in documents:\n",
    "    print(document)\n"
   ]
  },
  {
   "cell_type": "code",
   "execution_count": 19,
   "metadata": {},
   "outputs": [],
   "source": [
    "documents = mongo_collection.find().sort(\"created_at\", 1).limit(5)\n"
   ]
  },
  {
   "cell_type": "code",
   "execution_count": 20,
   "metadata": {},
   "outputs": [
    {
     "data": {
      "text/plain": [
       "<pymongo.cursor.Cursor at 0x77cd9bd833d0>"
      ]
     },
     "execution_count": 20,
     "metadata": {},
     "output_type": "execute_result"
    }
   ],
   "source": []
  },
  {
   "cell_type": "code",
   "execution_count": null,
   "metadata": {},
   "outputs": [],
   "source": []
  }
 ],
 "metadata": {
  "kernelspec": {
   "display_name": "Python 3",
   "language": "python",
   "name": "python3"
  },
  "language_info": {
   "codemirror_mode": {
    "name": "ipython",
    "version": 3
   },
   "file_extension": ".py",
   "mimetype": "text/x-python",
   "name": "python",
   "nbconvert_exporter": "python",
   "pygments_lexer": "ipython3",
   "version": "3.10.12"
  }
 },
 "nbformat": 4,
 "nbformat_minor": 2
}
